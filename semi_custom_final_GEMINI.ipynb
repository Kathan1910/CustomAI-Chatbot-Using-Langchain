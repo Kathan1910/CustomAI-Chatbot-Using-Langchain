{
 "cells": [
  {
   "cell_type": "markdown",
   "metadata": {},
   "source": [
    "## In this example we are going to use the GEMINI Model for both Query and Response generation"
   ]
  },
  {
   "cell_type": "code",
   "execution_count": 1,
   "metadata": {},
   "outputs": [
    {
     "name": "stderr",
     "output_type": "stream",
     "text": [
      "c:\\Users\\admin\\UpForce\\Company Projects\\UniversalChatBot\\venv\\lib\\site-packages\\tqdm\\auto.py:21: TqdmWarning: IProgress not found. Please update jupyter and ipywidgets. See https://ipywidgets.readthedocs.io/en/stable/user_install.html\n",
      "  from .autonotebook import tqdm as notebook_tqdm\n"
     ]
    }
   ],
   "source": [
    "#imports \n",
    "import os \n",
    "import re\n",
    "import time\n",
    "import pandas as pd \n",
    "import streamlit as st \n",
    "from langchain.sql_database import SQLDatabase\n",
    "from sqlalchemy import create_engine, text\n",
    "import google.generativeai as genai"
   ]
  },
  {
   "cell_type": "code",
   "execution_count": 2,
   "metadata": {},
   "outputs": [],
   "source": [
    "#Environment variables\n",
    "#GEMINI api key\n",
    "os.environ['GOOGLE_API_KEY'] = os.getenv('GOOGLE_API_KEY')"
   ]
  },
  {
   "cell_type": "code",
   "execution_count": 3,
   "metadata": {},
   "outputs": [],
   "source": [
    "# Database connection\n",
    "db_user = \"postgres\" #Add your database creditional\n",
    "db_password = \"Password\" #Add your database creditional\n",
    "db_host = \"localhost\" #Add your database creditional\n",
    "db_name = \"schoolDB\" #Add your database creditional\n",
    "db_port = 5432 #Add your database creditional\n",
    "SQLALCHEMY_DATABASE_URL = f\"postgresql://{db_user}:{db_password}@{db_host}:{db_port}/{db_name}\"\n",
    "db = SQLDatabase.from_uri(SQLALCHEMY_DATABASE_URL)"
   ]
  },
  {
   "cell_type": "code",
   "execution_count": 4,
   "metadata": {},
   "outputs": [],
   "source": [
    "#database\n",
    "db_name = \"postgresql\""
   ]
  },
  {
   "cell_type": "code",
   "execution_count": 5,
   "metadata": {},
   "outputs": [],
   "source": [
    "# Model initialization\n",
    "#GEMINI Model\n",
    "gemini_model = genai.GenerativeModel('gemini-pro')"
   ]
  },
  {
   "cell_type": "code",
   "execution_count": 6,
   "metadata": {},
   "outputs": [],
   "source": [
    "#table information\n",
    "table_info = \"\"\"\n",
    "        -> The database contains the following tables:\n",
    "\n",
    "    1. Students: Contains information about students\n",
    "        - StudentID: Unique identifier for the student\n",
    "        - FirstName: First name of the student\n",
    "        - LastName: Last name of the student\n",
    "        - DateOfBirth: Student's birthdate\n",
    "        - Grade: The grade or class the student is in\n",
    "        - Email: Student's email address\n",
    "        - Address: Home address of the student\n",
    "\n",
    "    2. Teachers: Contains information about teachers\n",
    "        - TeacherID: Unique identifier for the teacher\n",
    "        - FirstName: First name of the teacher\n",
    "        - LastName: Last name of the teacher\n",
    "        - Email: Teacher's email address\n",
    "        - Specialty: The subject or area the teacher specializes in\n",
    "        - PhoneNumber: Teacher's contact number\n",
    "\n",
    "    3. Courses: Contains information about courses offered\n",
    "        - CourseID: Unique identifier for the course\n",
    "        - CourseName: Name of the course\n",
    "        - Description: A brief description of the course content\n",
    "        - TeacherID: The identifier for the teacher responsible for the course\n",
    "\n",
    "    4. Enrollments: Tracks student enrollments in courses\n",
    "        - EnrollmentID: Unique identifier for the enrollment record\n",
    "        - StudentID: Identifier for the student\n",
    "        - CourseID: Identifier for the course\n",
    "        - EnrollmentDate: The date when the student enrolled in the course\n",
    "        - Grade: The grade received by the student in the course\n",
    "\n",
    "    5. Classrooms: Contains information about classrooms\n",
    "        - ClassroomID: Unique identifier for the classroom\n",
    "        - ClassroomName: Name or number of the classroom\n",
    "        - Location: The physical location of the classroom\n",
    "        - Capacity: How many individuals the classroom can accommodate\n",
    "\n",
    "    6. Schedule: Organizes when and where courses take place\n",
    "        - ScheduleID: Unique identifier for the schedule entry\n",
    "        - CourseID: Identifier for the course\n",
    "        - ClassroomID: Identifier for the classroom where the course is held\n",
    "        - StartTime: When the course begins\n",
    "        - EndTime: When the course ends\n",
    "        - DaysOfWeek: Which days of the week the course is held on\n",
    "\"\"\""
   ]
  },
  {
   "cell_type": "code",
   "execution_count": 7,
   "metadata": {},
   "outputs": [],
   "source": [
    "# Define the prompt to be passed to the model\n",
    "prompt = f\"\"\"\n",
    "    -> If the input is a greeting, respond appropriately with a greeting message, return only greeting message for any greeting input.\\n\n",
    "    -> Do not provide any query for update and deletion related tasks.\n",
    "    -> You are an expert in translating English questions into detailed SQL queries for {db_name} database. Your task is to create a robust SQL query based on the user input using given table information.\n",
    "    -> If the user question is not suitable for a SQL query, then respond appropriately as per the question.\n",
    "    -> Ensure the use of single quotes ('') throughout the query, excluding double quotes. Use three backticks (```) at the beginning and end of the query, do not use \\\\n in the query.\n",
    "    -> always limit the query to retrieve information for only 10 datapoints each time.\\n\n",
    "    -> For date-related operations, use the 'EXTRACT' function.\\n\n",
    "    -> The database contains the following tables; focus on the relevant table for the given information. Use the following information to form the query:\\n\n",
    "    \n",
    "    {table_info}\n",
    "\"\"\""
   ]
  },
  {
   "cell_type": "code",
   "execution_count": 8,
   "metadata": {},
   "outputs": [],
   "source": [
    "# input Prompt Generator using User Input\n",
    "def generate_prompt(question, prompt):\n",
    "    pt = f\"\"\"\n",
    "        **User Question:**\n",
    "        {question}\n",
    "        **Additional Information:**\n",
    "        {prompt}\n",
    "    \"\"\"\n",
    "    return pt"
   ]
  },
  {
   "cell_type": "code",
   "execution_count": 9,
   "metadata": {},
   "outputs": [],
   "source": [
    "# This function retrieves a SQL query from the model output.\n",
    "def get_query(output):\n",
    "    \n",
    "    # Define a regular expression pattern to find the SQL query enclosed between ```sql and ```\n",
    "    pattern = re.compile(r\"```sql\\n(.*?)\\n```\", re.DOTALL)\n",
    "\n",
    "    # Search for the pattern in the output string\n",
    "    match = pattern.search(output)\n",
    "\n",
    "    # Check if a match is found\n",
    "    if match:\n",
    "        # Extract the SQL query\n",
    "        sql_query = f'{match.group(1).strip()}'\n",
    "        return sql_query\n",
    "    else:\n",
    "        # Inform if no query is found\n",
    "        print('Query is not found.')"
   ]
  },
  {
   "cell_type": "code",
   "execution_count": 10,
   "metadata": {},
   "outputs": [],
   "source": [
    "# This function fetches data from the database using a specified SQL query.\n",
    "def get_data(query):\n",
    "    # Create a database engine\n",
    "    engine = create_engine(SQLALCHEMY_DATABASE_URL)\n",
    "\n",
    "    try:\n",
    "        # Use a context manager to handle connections and transactions automatically\n",
    "        with engine.connect() as connection:\n",
    "            # Convert the query into a format suitable for execution\n",
    "            query = text(query)\n",
    "\n",
    "            # Execute the query\n",
    "            result = connection.execute(query)\n",
    "\n",
    "            # Fetch all the rows returned by the query\n",
    "            rows = result.fetchall()\n",
    "            return rows\n",
    "\n",
    "    except Exception as e:\n",
    "        # Print an error message if an exception occurs\n",
    "        print(f\"Error: {e}\")"
   ]
  },
  {
   "cell_type": "code",
   "execution_count": 11,
   "metadata": {},
   "outputs": [],
   "source": [
    "# This function generates a final prompt for an expert answer generator based on the provided inputs.\n",
    "def generate_final_prompt(question, sql, data, tables):\n",
    "    final_prompt_template = f\"\"\"\n",
    "        ==> You are an expert answer generator. Your task is to form a comprehensive answer from the given data.\\n\n",
    "        ==> If the data is not available, provide an answer that the data is not available in your language.\\n\n",
    "        ==> If the user input is greeting then greet the user.\\n\n",
    "        ==> Do not return any SQL query or any irrelevant data.\\n\n",
    "        ==> You do not have permission to Delete or Update any table, if user ask to do it reply approprietly that you do not have permission to update database.\\n\n",
    "        **User Question:**\n",
    "        {question}\n",
    "\n",
    "        **SQL Query:**\n",
    "        {sql}\n",
    "\n",
    "        **Table information:**\n",
    "        {tables}\n",
    "\n",
    "        **Data:**\n",
    "        {data}\n",
    "\n",
    "    Note: \n",
    "        ==> Your task is to generate an appropriate answer based on the given question using the provided data. Consider the SQL Query as a reference.\\n\n",
    "        ==> All commam seperated data should be presented in tabular format only \n",
    "        ==> If you are unable to find a relevant answer, please state that there is insufficient data available.\\n\n",
    "\n",
    "        ### Please craft a well-formed response.\n",
    "    \"\"\"\n",
    "    return final_prompt_template"
   ]
  },
  {
   "cell_type": "code",
   "execution_count": 12,
   "metadata": {},
   "outputs": [],
   "source": [
    "# This function extracts text content from a response object, specifically designed for GEMINI model output.\n",
    "def get_text_content(response):\n",
    "    \"\"\"\n",
    "    Extract text content from a response object.\n",
    "    Parameters:\n",
    "    - response: The response object containing text content.\n",
    "    Returns:\n",
    "    - text_content: Extracted text content.\n",
    "    \"\"\"\n",
    "    if len(response.parts) == 1 and \"text\" in response.parts[0]:\n",
    "        # Access the text content if it's a simple text response\n",
    "        text_content = response.parts[0].text\n",
    "    else:\n",
    "        # Handle the case where the response is not a simple text\n",
    "        # Loop through parts and concatenate text from each part\n",
    "        text_content = \"\"\n",
    "        for part in response.parts:\n",
    "            if \"text\" in part:\n",
    "                text_content += part.text\n",
    "\n",
    "    return text_content"
   ]
  },
  {
   "cell_type": "code",
   "execution_count": 13,
   "metadata": {},
   "outputs": [
    {
     "data": {
      "text/plain": [
       "'list down 5 student name'"
      ]
     },
     "execution_count": 13,
     "metadata": {},
     "output_type": "execute_result"
    }
   ],
   "source": [
    "#user input\n",
    "user_query = \"list down 5 student name\"\n",
    "user_query"
   ]
  },
  {
   "cell_type": "code",
   "execution_count": 14,
   "metadata": {},
   "outputs": [
    {
     "name": "stdout",
     "output_type": "stream",
     "text": [
      "\n",
      "        **User Question:**\n",
      "        list down 5 student name\n",
      "        **Additional Information:**\n",
      "        \n",
      "    -> If the input is a greeting, respond appropriately with a greeting message, return only greeting message for any greeting input.\n",
      "\n",
      "    -> Do not provide any query for update and deletion related tasks.\n",
      "    -> You are an expert in translating English questions into detailed SQL queries for postgresql database. Your task is to create a robust SQL query based on the user input using given table information.\n",
      "    -> If the user question is not suitable for a SQL query, then respond appropriately as per the question.\n",
      "    -> Ensure the use of single quotes ('') throughout the query, excluding double quotes. Use three backticks (```) at the beginning and end of the query, do not use \\n in the query.\n",
      "    -> always limit the query to retrieve information for only 10 datapoints each time.\n",
      "\n",
      "    -> For date-related operations, use the 'EXTRACT' function.\n",
      "\n",
      "    -> The database contains the following tables; focus on the relevant table for the given information. Use the following information to form the query:\n",
      "\n",
      "    \n",
      "    \n",
      "        -> The database contains the following tables:\n",
      "\n",
      "    1. Students: Contains information about students\n",
      "        - StudentID: Unique identifier for the student\n",
      "        - FirstName: First name of the student\n",
      "        - LastName: Last name of the student\n",
      "        - DateOfBirth: Student's birthdate\n",
      "        - Grade: The grade or class the student is in\n",
      "        - Email: Student's email address\n",
      "        - Address: Home address of the student\n",
      "\n",
      "    2. Teachers: Contains information about teachers\n",
      "        - TeacherID: Unique identifier for the teacher\n",
      "        - FirstName: First name of the teacher\n",
      "        - LastName: Last name of the teacher\n",
      "        - Email: Teacher's email address\n",
      "        - Specialty: The subject or area the teacher specializes in\n",
      "        - PhoneNumber: Teacher's contact number\n",
      "\n",
      "    3. Courses: Contains information about courses offered\n",
      "        - CourseID: Unique identifier for the course\n",
      "        - CourseName: Name of the course\n",
      "        - Description: A brief description of the course content\n",
      "        - TeacherID: The identifier for the teacher responsible for the course\n",
      "\n",
      "    4. Enrollments: Tracks student enrollments in courses\n",
      "        - EnrollmentID: Unique identifier for the enrollment record\n",
      "        - StudentID: Identifier for the student\n",
      "        - CourseID: Identifier for the course\n",
      "        - EnrollmentDate: The date when the student enrolled in the course\n",
      "        - Grade: The grade received by the student in the course\n",
      "\n",
      "    5. Classrooms: Contains information about classrooms\n",
      "        - ClassroomID: Unique identifier for the classroom\n",
      "        - ClassroomName: Name or number of the classroom\n",
      "        - Location: The physical location of the classroom\n",
      "        - Capacity: How many individuals the classroom can accommodate\n",
      "\n",
      "    6. Schedule: Organizes when and where courses take place\n",
      "        - ScheduleID: Unique identifier for the schedule entry\n",
      "        - CourseID: Identifier for the course\n",
      "        - ClassroomID: Identifier for the classroom where the course is held\n",
      "        - StartTime: When the course begins\n",
      "        - EndTime: When the course ends\n",
      "        - DaysOfWeek: Which days of the week the course is held on\n",
      "\n",
      "\n",
      "    \n"
     ]
    }
   ],
   "source": [
    "#Generating prompt to create the sql query \n",
    "full_query = generate_prompt(question=user_query,prompt=prompt)\n",
    "print(full_query)"
   ]
  },
  {
   "cell_type": "markdown",
   "metadata": {},
   "source": [
    "# GEMINI Model"
   ]
  },
  {
   "cell_type": "code",
   "execution_count": 15,
   "metadata": {},
   "outputs": [
    {
     "name": "stdout",
     "output_type": "stream",
     "text": [
      "```sql\n",
      "SELECT\n",
      "  FirstName,\n",
      "  LastName\n",
      "FROM Students\n",
      "LIMIT 5;\n",
      "```\n"
     ]
    }
   ],
   "source": [
    "#Creating sql query\n",
    "model_response = gemini_model.generate_content(full_query)\n",
    "response = get_text_content(model_response)\n",
    "print(response)"
   ]
  },
  {
   "cell_type": "code",
   "execution_count": 16,
   "metadata": {},
   "outputs": [
    {
     "name": "stdout",
     "output_type": "stream",
     "text": [
      "SELECT\n",
      "  FirstName,\n",
      "  LastName\n",
      "FROM Students\n",
      "LIMIT 5;\n"
     ]
    }
   ],
   "source": [
    "#Extracting query from response\n",
    "real_query = get_query(response)\n",
    "print(real_query)"
   ]
  },
  {
   "cell_type": "code",
   "execution_count": 17,
   "metadata": {},
   "outputs": [
    {
     "name": "stdout",
     "output_type": "stream",
     "text": [
      "data retrieved from query: [('Daniel', 'Sanchez'), ('Anthony', 'Hughes'), ('Jody', 'Davidson'), ('Kathryn', 'Rodriguez'), ('Paul', 'Miller')]\n"
     ]
    }
   ],
   "source": [
    "# #Query Performer\n",
    "final_output = get_data(real_query)\n",
    "\n",
    "## Displaying the data retrieved from database\n",
    "print(f\"data retrieved from query: {final_output}\")"
   ]
  },
  {
   "cell_type": "code",
   "execution_count": 18,
   "metadata": {},
   "outputs": [
    {
     "name": "stdout",
     "output_type": "stream",
     "text": [
      "\n",
      "        ==> You are an expert answer generator. Your task is to form a comprehensive answer from the given data.\n",
      "\n",
      "        ==> If the data is not available, provide an answer that the data is not available in your language.\n",
      "\n",
      "        ==> If the user input is greeting then greet the user.\n",
      "\n",
      "        ==> Do not return any SQL query or any irrelevant data.\n",
      "\n",
      "        ==> You do not have permission to Delete or Update any table, if user ask to do it reply approprietly that you do not have permission to update database.\n",
      "\n",
      "        **User Question:**\n",
      "        list down 5 student name\n",
      "\n",
      "        **SQL Query:**\n",
      "        SELECT\n",
      "  FirstName,\n",
      "  LastName\n",
      "FROM Students\n",
      "LIMIT 5;\n",
      "\n",
      "        **Table information:**\n",
      "        \n",
      "        -> The database contains the following tables:\n",
      "\n",
      "    1. Students: Contains information about students\n",
      "        - StudentID: Unique identifier for the student\n",
      "        - FirstName: First name of the student\n",
      "        - LastName: Last name of the student\n",
      "        - DateOfBirth: Student's birthdate\n",
      "        - Grade: The grade or class the student is in\n",
      "        - Email: Student's email address\n",
      "        - Address: Home address of the student\n",
      "\n",
      "    2. Teachers: Contains information about teachers\n",
      "        - TeacherID: Unique identifier for the teacher\n",
      "        - FirstName: First name of the teacher\n",
      "        - LastName: Last name of the teacher\n",
      "        - Email: Teacher's email address\n",
      "        - Specialty: The subject or area the teacher specializes in\n",
      "        - PhoneNumber: Teacher's contact number\n",
      "\n",
      "    3. Courses: Contains information about courses offered\n",
      "        - CourseID: Unique identifier for the course\n",
      "        - CourseName: Name of the course\n",
      "        - Description: A brief description of the course content\n",
      "        - TeacherID: The identifier for the teacher responsible for the course\n",
      "\n",
      "    4. Enrollments: Tracks student enrollments in courses\n",
      "        - EnrollmentID: Unique identifier for the enrollment record\n",
      "        - StudentID: Identifier for the student\n",
      "        - CourseID: Identifier for the course\n",
      "        - EnrollmentDate: The date when the student enrolled in the course\n",
      "        - Grade: The grade received by the student in the course\n",
      "\n",
      "    5. Classrooms: Contains information about classrooms\n",
      "        - ClassroomID: Unique identifier for the classroom\n",
      "        - ClassroomName: Name or number of the classroom\n",
      "        - Location: The physical location of the classroom\n",
      "        - Capacity: How many individuals the classroom can accommodate\n",
      "\n",
      "    6. Schedule: Organizes when and where courses take place\n",
      "        - ScheduleID: Unique identifier for the schedule entry\n",
      "        - CourseID: Identifier for the course\n",
      "        - ClassroomID: Identifier for the classroom where the course is held\n",
      "        - StartTime: When the course begins\n",
      "        - EndTime: When the course ends\n",
      "        - DaysOfWeek: Which days of the week the course is held on\n",
      "\n",
      "\n",
      "        **Data:**\n",
      "        [('Daniel', 'Sanchez'), ('Anthony', 'Hughes'), ('Jody', 'Davidson'), ('Kathryn', 'Rodriguez'), ('Paul', 'Miller')]\n",
      "\n",
      "    Note: \n",
      "        ==> Your task is to generate an appropriate answer based on the given question using the provided data. Consider the SQL Query as a reference.\n",
      "\n",
      "        ==> All commam seperated data should be presented in tabular format only \n",
      "        ==> If you are unable to find a relevant answer, please state that there is insufficient data available.\n",
      "\n",
      "\n",
      "        ### Please craft a well-formed response.\n",
      "    \n"
     ]
    }
   ],
   "source": [
    "#generating prompt for final answer generation \n",
    "full_prompt = generate_final_prompt(question=user_query,sql=real_query,data=final_output,tables=table_info)\n",
    "\n",
    "print(full_prompt)"
   ]
  },
  {
   "cell_type": "code",
   "execution_count": 19,
   "metadata": {},
   "outputs": [
    {
     "name": "stdout",
     "output_type": "stream",
     "text": [
      "| FirstName | LastName |\n",
      "| ----------- | ----------- |\n",
      "| Daniel | Sanchez |\n",
      "| Anthony | Hughes |\n",
      "| Jody | Davidson |\n",
      "| Kathryn | Rodriguez |\n",
      "| Paul | Miller |\n"
     ]
    }
   ],
   "source": [
    "#answer using openai model\n",
    "answer = gemini_model.generate_content(full_prompt)\n",
    "final_answer = get_text_content(answer)\n",
    "print(final_answer)"
   ]
  }
 ],
 "metadata": {
  "kernelspec": {
   "display_name": "Python 3",
   "language": "python",
   "name": "python3"
  },
  "language_info": {
   "codemirror_mode": {
    "name": "ipython",
    "version": 3
   },
   "file_extension": ".py",
   "mimetype": "text/x-python",
   "name": "python",
   "nbconvert_exporter": "python",
   "pygments_lexer": "ipython3",
   "version": "3.10.0"
  }
 },
 "nbformat": 4,
 "nbformat_minor": 2
}
